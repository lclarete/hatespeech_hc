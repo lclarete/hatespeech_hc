{
 "cells": [
  {
   "cell_type": "code",
   "execution_count": 33,
   "id": "8772d215",
   "metadata": {},
   "outputs": [],
   "source": [
    "# https://www.youtube.com/watch?v=Br-Ozg9D4mc&ab_channel=codebasics"
   ]
  },
  {
   "cell_type": "code",
   "execution_count": 1,
   "id": "c4d7a610",
   "metadata": {},
   "outputs": [],
   "source": [
    "# ! pip install fasttext"
   ]
  },
  {
   "cell_type": "code",
   "execution_count": 2,
   "id": "32e44fa1",
   "metadata": {},
   "outputs": [],
   "source": [
    "from fasttext import load_model\n",
    "import fasttext"
   ]
  },
  {
   "cell_type": "code",
   "execution_count": 3,
   "id": "b51f19ca",
   "metadata": {},
   "outputs": [
    {
     "name": "stderr",
     "output_type": "stream",
     "text": [
      "Read 0M words\n",
      "Number of words:  6237\n",
      "Number of labels: 912\n",
      "Progress: 100.0% words/sec/thread:   34790 lr:  0.000000 avg.loss:  7.502896 ETA:   0h 0m 0s\n"
     ]
    }
   ],
   "source": [
    "train = fasttext.train_supervised('./data/train_hs.txt')"
   ]
  },
  {
   "cell_type": "code",
   "execution_count": 4,
   "id": "0f59e3f5",
   "metadata": {},
   "outputs": [],
   "source": [
    "# model = fasttext.load_model('./model/xt_supervised.bin')"
   ]
  },
  {
   "cell_type": "code",
   "execution_count": 5,
   "id": "51463b07",
   "metadata": {},
   "outputs": [
    {
     "data": {
      "text/plain": [
       "['__class__',\n",
       " '__contains__',\n",
       " '__delattr__',\n",
       " '__dict__',\n",
       " '__dir__',\n",
       " '__doc__',\n",
       " '__eq__',\n",
       " '__format__',\n",
       " '__ge__',\n",
       " '__getattribute__',\n",
       " '__getitem__',\n",
       " '__gt__',\n",
       " '__hash__',\n",
       " '__init__',\n",
       " '__init_subclass__',\n",
       " '__le__',\n",
       " '__lt__',\n",
       " '__module__',\n",
       " '__ne__',\n",
       " '__new__',\n",
       " '__reduce__',\n",
       " '__reduce_ex__',\n",
       " '__repr__',\n",
       " '__setattr__',\n",
       " '__sizeof__',\n",
       " '__str__',\n",
       " '__subclasshook__',\n",
       " '__weakref__',\n",
       " '_labels',\n",
       " '_words',\n",
       " 'bucket',\n",
       " 'dim',\n",
       " 'epoch',\n",
       " 'f',\n",
       " 'get_analogies',\n",
       " 'get_dimension',\n",
       " 'get_input_matrix',\n",
       " 'get_input_vector',\n",
       " 'get_label_id',\n",
       " 'get_labels',\n",
       " 'get_line',\n",
       " 'get_meter',\n",
       " 'get_nearest_neighbors',\n",
       " 'get_output_matrix',\n",
       " 'get_sentence_vector',\n",
       " 'get_subword_id',\n",
       " 'get_subwords',\n",
       " 'get_word_id',\n",
       " 'get_word_vector',\n",
       " 'get_words',\n",
       " 'is_quantized',\n",
       " 'label',\n",
       " 'labels',\n",
       " 'loss',\n",
       " 'lr',\n",
       " 'lrUpdateRate',\n",
       " 'maxn',\n",
       " 'minCount',\n",
       " 'minCountLabel',\n",
       " 'minn',\n",
       " 'neg',\n",
       " 'predict',\n",
       " 'pretrainedVectors',\n",
       " 'quantize',\n",
       " 'save_model',\n",
       " 'set_args',\n",
       " 'set_matrices',\n",
       " 't',\n",
       " 'test',\n",
       " 'test_label',\n",
       " 'thread',\n",
       " 'verbose',\n",
       " 'wordNgrams',\n",
       " 'words',\n",
       " 'ws']"
      ]
     },
     "execution_count": 5,
     "metadata": {},
     "output_type": "execute_result"
    }
   ],
   "source": [
    "dir(train)"
   ]
  },
  {
   "cell_type": "code",
   "execution_count": 6,
   "id": "60970135",
   "metadata": {},
   "outputs": [
    {
     "data": {
      "text/plain": [
       "[(0.996456503868103, 'burra'),\n",
       " (0.992592990398407, 'merda...'),\n",
       " (0.992592990398407, 'Tá'),\n",
       " (0.992592990398407, 'luzes'),\n",
       " (0.9925801157951355, 'busão'),\n",
       " (0.9925801157951355, 'esqueceu'),\n",
       " (0.9876481890678406, 'valoriza'),\n",
       " (0.9876481890678406, 'única.'),\n",
       " (0.9876481890678406, 'ajuda'),\n",
       " (0.9876481890678406, 'traidor,')]"
      ]
     },
     "execution_count": 6,
     "metadata": {},
     "output_type": "execute_result"
    }
   ],
   "source": [
    "train.get_nearest_neighbors('mulher')"
   ]
  },
  {
   "cell_type": "code",
   "execution_count": 7,
   "id": "040bfc7e",
   "metadata": {},
   "outputs": [
    {
     "data": {
      "text/plain": [
       "[(0.9387304186820984, 'angola,'),\n",
       " (0.9387304186820984, 'metrópole'),\n",
       " (0.9387304186820984, 'brancos,'),\n",
       " (0.9387304186820984, 'nativos'),\n",
       " (0.9387304186820984, 'assassinados,'),\n",
       " (0.9387304186820984, 'tipo'),\n",
       " (0.9386879205703735, 'homo.'),\n",
       " (0.9382243752479553, 'Concreto'),\n",
       " (0.9382243752479553, 'madeira.'),\n",
       " (0.9382243752479553, 'coisas:')]"
      ]
     },
     "execution_count": 7,
     "metadata": {},
     "output_type": "execute_result"
    }
   ],
   "source": [
    "train.get_analogies('mulher', 'homem', 'gay')"
   ]
  },
  {
   "cell_type": "code",
   "execution_count": 8,
   "id": "7b23700a",
   "metadata": {},
   "outputs": [
    {
     "data": {
      "text/plain": [
       "<fasttext.FastText._FastText at 0x108828a00>"
      ]
     },
     "execution_count": 8,
     "metadata": {},
     "output_type": "execute_result"
    }
   ],
   "source": [
    "train"
   ]
  },
  {
   "cell_type": "code",
   "execution_count": 9,
   "id": "51bb674e",
   "metadata": {},
   "outputs": [
    {
     "name": "stderr",
     "output_type": "stream",
     "text": [
      "Read 0M words\n",
      "Number of words:  1654\n",
      "Number of labels: 912\n",
      "Progress: 100.0% words/sec/thread:   77145 lr:  0.000000 avg.loss:  2.733584 ETA:   0h 0m 0s\n"
     ]
    }
   ],
   "source": [
    "model_un = fasttext.train_unsupervised('./data/train_hs.txt')"
   ]
  },
  {
   "cell_type": "code",
   "execution_count": 10,
   "id": "752f620b",
   "metadata": {},
   "outputs": [
    {
     "data": {
      "text/plain": [
       "[(0.996456503868103, 'burra'),\n",
       " (0.992592990398407, 'merda...'),\n",
       " (0.992592990398407, 'Tá'),\n",
       " (0.992592990398407, 'luzes'),\n",
       " (0.9925801157951355, 'busão'),\n",
       " (0.9925801157951355, 'esqueceu'),\n",
       " (0.9876481890678406, 'valoriza'),\n",
       " (0.9876481890678406, 'única.'),\n",
       " (0.9876481890678406, 'ajuda'),\n",
       " (0.9876481890678406, 'traidor,')]"
      ]
     },
     "execution_count": 10,
     "metadata": {},
     "output_type": "execute_result"
    }
   ],
   "source": [
    "train.get_nearest_neighbors('mulher')"
   ]
  },
  {
   "cell_type": "code",
   "execution_count": 11,
   "id": "7b1748e4",
   "metadata": {},
   "outputs": [
    {
     "data": {
      "text/plain": [
       "[(0.988223671913147, 'mulher?'),\n",
       " (0.9866414666175842, 'mulher,'),\n",
       " (0.9829586148262024, 'mulher:'),\n",
       " (0.9815002083778381, 'mulher\"'),\n",
       " (0.978455126285553, 'mulher!'),\n",
       " (0.9774141907691956, 'Mulher'),\n",
       " (0.9741955995559692, 'mulher.'),\n",
       " (0.9629771113395691, 'mulheres'),\n",
       " (0.9558529257774353, 'burra'),\n",
       " (0.9521109461784363, 'mulheres.')]"
      ]
     },
     "execution_count": 11,
     "metadata": {},
     "output_type": "execute_result"
    }
   ],
   "source": [
    "model_un.get_nearest_neighbors('mulher')"
   ]
  },
  {
   "cell_type": "code",
   "execution_count": null,
   "id": "f6e7775c",
   "metadata": {},
   "outputs": [],
   "source": []
  },
  {
   "cell_type": "code",
   "execution_count": null,
   "id": "415b1ac2",
   "metadata": {},
   "outputs": [],
   "source": []
  }
 ],
 "metadata": {
  "kernelspec": {
   "display_name": "Python 3 (ipykernel)",
   "language": "python",
   "name": "python3"
  },
  "language_info": {
   "codemirror_mode": {
    "name": "ipython",
    "version": 3
   },
   "file_extension": ".py",
   "mimetype": "text/x-python",
   "name": "python",
   "nbconvert_exporter": "python",
   "pygments_lexer": "ipython3",
   "version": "3.9.14"
  }
 },
 "nbformat": 4,
 "nbformat_minor": 5
}
