{
 "cells": [
  {
   "cell_type": "code",
   "execution_count": 1,
   "id": "914b7b85",
   "metadata": {},
   "outputs": [],
   "source": [
    "# ! export MACOSX_DEPLOYMENT_TARGET=10.9\n",
    "# ! pip install extremetext"
   ]
  },
  {
   "cell_type": "code",
   "execution_count": 2,
   "id": "5d3af135",
   "metadata": {},
   "outputs": [],
   "source": [
    "# ! pip install scikit-multilearn"
   ]
  },
  {
   "cell_type": "code",
   "execution_count": 3,
   "id": "94adf551",
   "metadata": {},
   "outputs": [],
   "source": [
    "# https://github.com/mwydmuch/extremeText\n",
    "# https://arxiv.org/pdf/1810.11671v1.pdf"
   ]
  },
  {
   "cell_type": "code",
   "execution_count": 29,
   "id": "42576553",
   "metadata": {},
   "outputs": [],
   "source": [
    "import pandas as pd\n",
    "import extremeText\n",
    "from sklearn.model_selection import train_test_split\n",
    "from skmultilearn.model_selection import iterative_train_test_split\n",
    "from sklearn.datasets import make_multilabel_classification"
   ]
  },
  {
   "cell_type": "code",
   "execution_count": 30,
   "id": "905b7780",
   "metadata": {},
   "outputs": [
    {
     "name": "stdout",
     "output_type": "stream",
     "text": [
      "(5668, 80)\n"
     ]
    },
    {
     "data": {
      "text/html": [
       "<div>\n",
       "<style scoped>\n",
       "    .dataframe tbody tr th:only-of-type {\n",
       "        vertical-align: middle;\n",
       "    }\n",
       "\n",
       "    .dataframe tbody tr th {\n",
       "        vertical-align: top;\n",
       "    }\n",
       "\n",
       "    .dataframe thead th {\n",
       "        text-align: right;\n",
       "    }\n",
       "</style>\n",
       "<table border=\"1\" class=\"dataframe\">\n",
       "  <thead>\n",
       "    <tr style=\"text-align: right;\">\n",
       "      <th></th>\n",
       "      <th>text</th>\n",
       "      <th>Hate.speech</th>\n",
       "      <th>Sexism</th>\n",
       "      <th>Body</th>\n",
       "      <th>Racism</th>\n",
       "      <th>Ideology</th>\n",
       "      <th>Homophobia</th>\n",
       "      <th>Origin</th>\n",
       "      <th>Religion</th>\n",
       "      <th>Health</th>\n",
       "      <th>...</th>\n",
       "      <th>Thin.women</th>\n",
       "      <th>Arabic</th>\n",
       "      <th>East.europeans</th>\n",
       "      <th>Africans</th>\n",
       "      <th>South.Americans</th>\n",
       "      <th>Brazilians</th>\n",
       "      <th>Migrants</th>\n",
       "      <th>Homossexuals</th>\n",
       "      <th>Thin.people</th>\n",
       "      <th>Ageing</th>\n",
       "    </tr>\n",
       "  </thead>\n",
       "  <tbody>\n",
       "    <tr>\n",
       "      <th>0</th>\n",
       "      <td>\"não come mel, morde marimbondo\"</td>\n",
       "      <td>0</td>\n",
       "      <td>0</td>\n",
       "      <td>0</td>\n",
       "      <td>0</td>\n",
       "      <td>0</td>\n",
       "      <td>0</td>\n",
       "      <td>0</td>\n",
       "      <td>0</td>\n",
       "      <td>0</td>\n",
       "      <td>...</td>\n",
       "      <td>0</td>\n",
       "      <td>0</td>\n",
       "      <td>0</td>\n",
       "      <td>0</td>\n",
       "      <td>0</td>\n",
       "      <td>0</td>\n",
       "      <td>0</td>\n",
       "      <td>0</td>\n",
       "      <td>0</td>\n",
       "      <td>0</td>\n",
       "    </tr>\n",
       "    <tr>\n",
       "      <th>1</th>\n",
       "      <td>não tem pinto, tem orgulho !</td>\n",
       "      <td>0</td>\n",
       "      <td>0</td>\n",
       "      <td>0</td>\n",
       "      <td>0</td>\n",
       "      <td>0</td>\n",
       "      <td>0</td>\n",
       "      <td>0</td>\n",
       "      <td>0</td>\n",
       "      <td>0</td>\n",
       "      <td>...</td>\n",
       "      <td>0</td>\n",
       "      <td>0</td>\n",
       "      <td>0</td>\n",
       "      <td>0</td>\n",
       "      <td>0</td>\n",
       "      <td>0</td>\n",
       "      <td>0</td>\n",
       "      <td>0</td>\n",
       "      <td>0</td>\n",
       "      <td>0</td>\n",
       "    </tr>\n",
       "  </tbody>\n",
       "</table>\n",
       "<p>2 rows × 80 columns</p>\n",
       "</div>"
      ],
      "text/plain": [
       "                               text  Hate.speech  Sexism  Body  Racism  \\\n",
       "0  \"não come mel, morde marimbondo\"            0       0     0       0   \n",
       "1      não tem pinto, tem orgulho !            0       0     0       0   \n",
       "\n",
       "   Ideology  Homophobia  Origin  Religion  Health  ...  Thin.women  Arabic  \\\n",
       "0         0           0       0         0       0  ...           0       0   \n",
       "1         0           0       0         0       0  ...           0       0   \n",
       "\n",
       "   East.europeans  Africans  South.Americans  Brazilians  Migrants  \\\n",
       "0               0         0                0           0         0   \n",
       "1               0         0                0           0         0   \n",
       "\n",
       "   Homossexuals  Thin.people  Ageing  \n",
       "0             0            0       0  \n",
       "1             0            0       0  \n",
       "\n",
       "[2 rows x 80 columns]"
      ]
     },
     "execution_count": 30,
     "metadata": {},
     "output_type": "execute_result"
    }
   ],
   "source": [
    "data = pd.read_csv('./dataset/2019-05-28_portuguese_hate_speech_hierarchical_classification.csv')\n",
    "print(data.shape)\n",
    "data.head(2)"
   ]
  },
  {
   "cell_type": "markdown",
   "id": "418d52e3",
   "metadata": {},
   "source": [
    "# Preprocessing\n",
    "Data should follow this format"
   ]
  },
  {
   "cell_type": "code",
   "execution_count": 185,
   "id": "23cdd292",
   "metadata": {},
   "outputs": [],
   "source": [
    "train_data_format = \"\"\"\n",
    "__label__mariadb-galera __label__mariadb55-mariadb __label__mysql55-mysql mariadb mariadb mysql solaris vulnerability oracle mysql server users availability vectors keys oracle com technetwork topics security html http secunia com http www oracle com technetwork topics security http lists security announce msg00016 html http www oracle com technetwork topics security html http secunia com http www securityfocus security gentoo glsa xml mariadb-galera mariadb55-mariadb-devel ruby-mysql openshift-origin-cartridge-mysql rh-mariadb100-mariadb mariadb-apb-role query-mysql mariadb55-mariadb-test rh-mysql57-mysql rh-mariadb101-mariadb rh-mysql56-mysql mysql mysql-connector-java mariadb55-mariadb-bench mysql55-mysql mysql-apb-role mysql mariadb55-mariadb-server mysql-binuuid-rails rh-mysql80-mysql com.github.brandtg switchboard-mysql rh-mariadb102-mariadb mariadb mariadb55-mariadb rhn-solaris-bootstrap mariadb55-mariadb-libs\n",
    "\"\"\"\n",
    "# https://github.com/automated-library/ICPC_2022_Automated-Identification-of-Libraries-from-Vulnerability-Data/tree/main/extremeText/dataset"
   ]
  },
  {
   "cell_type": "code",
   "execution_count": 186,
   "id": "f1d1fb37",
   "metadata": {},
   "outputs": [
    {
     "name": "stderr",
     "output_type": "stream",
     "text": [
      "/var/folders/3k/n8m_c1vj5gb6gyfmb_vsyf9w0000gn/T/ipykernel_9578/2872396253.py:4: FutureWarning: The default value of regex will change from True to False in a future version. In addition, single character regular expressions will *not* be treated as literal strings when regex=True.\n",
      "  df.columns = df.columns.str.replace('.', '-')\n"
     ]
    },
    {
     "data": {
      "text/plain": [
       "None               4996\n",
       "__label__Sexism     672\n",
       "Name: Sexism, dtype: int64"
      ]
     },
     "execution_count": 186,
     "metadata": {},
     "output_type": "execute_result"
    }
   ],
   "source": [
    "df = data.copy()\n",
    "\n",
    "# replace \".\" with \"-\"\n",
    "df.columns = df.columns.str.replace('.', '-')\n",
    "\n",
    "cols = df.columns\n",
    "cols = ['Hate-speech', 'Sexism', 'Body', 'Racism', 'Ideology', 'Homophobia', 'Origin', 'Religion', 'Health', 'OtherLifestyle', 'Aborting-women', 'Agnostic', 'Argentines', 'Asians', 'Autists', 'Black-Women', 'Blond-women', 'Brazilians-women', 'Chinese', 'Criminals', 'Egyptians', 'Fat-people', 'Football-players-women', 'Gamers', 'Homeless', 'Homeless-women', 'Indigenous', 'Iranians', 'Japaneses', 'Jews', 'Jornalists', 'Latins', 'Left-wing-ideology', 'Men-Feminists', 'Mexicans', 'Muslims-women', 'Nordestines', 'Old-people', 'Polyamorous', 'Poor-people', 'Rural-people', 'Russians', 'Sertanejos', 'Street-artist', 'Ucranians', 'Vegetarians', 'White-people', 'Young-people', 'Old-women', 'Ugly-people', 'Venezuelans', 'Angolans', 'Black-people', 'Disabled-people', 'Fat-women', 'Feminists', 'Gays', 'Immigrants', 'Islamists', 'Lesbians', 'Men', 'Muslims', 'Refugees', 'Trans-women', 'Travestis', 'Women', 'Bissexuals', 'Transexuals', 'Ugly-women', 'Thin-women', 'Arabic', 'East-europeans', 'Africans', 'South-Americans', 'Brazilians', 'Migrants', 'Homossexuals', 'Thin-people', 'Ageing']\n",
    "\n",
    "def label_value(value, col):\n",
    "    label = f'__label__{col}'\n",
    "    if value == 1:\n",
    "        return label\n",
    "    else:\n",
    "        return \"None\"\n",
    "    \n",
    "for i in cols:\n",
    "    df[i] = df[i].apply(label_value, args=(i,))\n",
    "    \n",
    "df.Sexism.value_counts()"
   ]
  },
  {
   "cell_type": "code",
   "execution_count": 200,
   "id": "d2200ade",
   "metadata": {},
   "outputs": [],
   "source": [
    "df['label_total'] = df[cols].agg(''.join, axis=1)\n",
    "df['label_total'] = df['label_total'].str.replace(\"None\", \"\")\n",
    "df['label_total'] = df['label_total'].str.replace(\"__label\", \" __label\")\n",
    "df['label_total'] = df['label_total'].str.strip()"
   ]
  },
  {
   "cell_type": "code",
   "execution_count": 214,
   "id": "35e18d0d",
   "metadata": {},
   "outputs": [],
   "source": [
    "# looks like not all data has a label\n",
    "# this function identify the one who got a label, and the one who don't\n",
    "def identify_label(value):\n",
    "    if \"__label\" in value:\n",
    "        return 1\n",
    "    else:\n",
    "        return 0"
   ]
  },
  {
   "cell_type": "code",
   "execution_count": 241,
   "id": "17a8bbee",
   "metadata": {},
   "outputs": [
    {
     "data": {
      "text/plain": [
       "0    4440\n",
       "1    1228\n",
       "Name: label_binary, dtype: int64"
      ]
     },
     "execution_count": 241,
     "metadata": {},
     "output_type": "execute_result"
    }
   ],
   "source": [
    "df['label_binary'] = df['label_total'].apply(identify_label)\n",
    "df['label_binary'].value_counts()"
   ]
  },
  {
   "cell_type": "code",
   "execution_count": 245,
   "id": "ad67386d",
   "metadata": {},
   "outputs": [],
   "source": [
    "df['extremeText_label'] = df['label_total'].astype(str) + df['text'].astype(str)"
   ]
  },
  {
   "cell_type": "code",
   "execution_count": 246,
   "id": "e2598d59",
   "metadata": {},
   "outputs": [
    {
     "data": {
      "text/plain": [
       "0                        \"não come mel, morde marimbondo\"\n",
       "1                            não tem pinto, tem orgulho !\n",
       "2       Não vê essa merda de Crepúsculo! Pra isso temo...\n",
       "3       não da tapa na bundinha, da cotovelada nas cos...\n",
       "4       __label__Hate-speech __label__Sexism __label__...\n",
       "                              ...                        \n",
       "5663    __label__Hate-speech __label__Homophobia __lab...\n",
       "5664    __label__Hate-speech __label__Homophobia __lab...\n",
       "5665    __label__Hate-speech __label__Homophobia __lab...\n",
       "5666    __label__Hate-speech __label__Homophobia __lab...\n",
       "5667    __label__Hate-speech __label__Homophobia __lab...\n",
       "Name: extremeText_label, Length: 5668, dtype: object"
      ]
     },
     "execution_count": 246,
     "metadata": {},
     "output_type": "execute_result"
    }
   ],
   "source": [
    "df['extremeText_label']"
   ]
  },
  {
   "cell_type": "code",
   "execution_count": 265,
   "id": "5c137d64",
   "metadata": {},
   "outputs": [],
   "source": [
    "labeled_data = list(df[df['label_binary'] == 1]['extremeText_label'].values)"
   ]
  },
  {
   "cell_type": "code",
   "execution_count": 267,
   "id": "3d429e66",
   "metadata": {},
   "outputs": [],
   "source": [
    "with open('./dataset/train_hs.txt', 'a') as the_file:\n",
    "    for item in labeled_data:\n",
    "        the_file.write(f\"{item}\\n\")"
   ]
  },
  {
   "cell_type": "markdown",
   "id": "da00d043",
   "metadata": {},
   "source": [
    "# Split dataset"
   ]
  },
  {
   "cell_type": "code",
   "execution_count": 7,
   "id": "84fd4221",
   "metadata": {},
   "outputs": [],
   "source": [
    "# SIMPLE train, test split\n",
    "# create a new one with this: http://scikit.ml/stratification.html\n",
    "X = df.copy()\n",
    "del X['Hate.speech']\n",
    "del X['text']\n",
    "\n",
    "y = df['Hate.speech']\n",
    "\n",
    "X_train, X_test, y_train, y_test = train_test_split(X, y)"
   ]
  },
  {
   "cell_type": "code",
   "execution_count": 6,
   "id": "2ba53201",
   "metadata": {},
   "outputs": [],
   "source": [
    "# train test split data\n",
    "# https://datascience.stackexchange.com/questions/45174/how-to-use-sklearn-train-test-split-to-stratify-data-for-multi-label-classificat"
   ]
  },
  {
   "cell_type": "code",
   "execution_count": 17,
   "id": "ed6141be",
   "metadata": {},
   "outputs": [],
   "source": [
    "X,Y = make_multilabel_classification(n_samples=300, n_classes=100, n_labels=10)\n"
   ]
  },
  {
   "cell_type": "code",
   "execution_count": 18,
   "id": "c27bdb1c",
   "metadata": {},
   "outputs": [
    {
     "data": {
      "text/plain": [
       "(300, 20)"
      ]
     },
     "execution_count": 18,
     "metadata": {},
     "output_type": "execute_result"
    }
   ],
   "source": [
    "X.shape"
   ]
  },
  {
   "cell_type": "code",
   "execution_count": 19,
   "id": "2496c4d5",
   "metadata": {},
   "outputs": [
    {
     "data": {
      "text/plain": [
       "(300, 100)"
      ]
     },
     "execution_count": 19,
     "metadata": {},
     "output_type": "execute_result"
    }
   ],
   "source": [
    "Y.shape"
   ]
  },
  {
   "cell_type": "code",
   "execution_count": 20,
   "id": "6306cc16",
   "metadata": {},
   "outputs": [],
   "source": [
    "X_train, y_train, X_test, y_test = iterative_train_test_split(X,Y,test_size=0.20)"
   ]
  },
  {
   "cell_type": "code",
   "execution_count": 21,
   "id": "d782eda0",
   "metadata": {},
   "outputs": [
    {
     "data": {
      "text/plain": [
       "array([[3., 2., 3., ..., 4., 3., 4.],\n",
       "       [3., 1., 5., ..., 4., 2., 2.],\n",
       "       [5., 1., 1., ..., 3., 5., 2.],\n",
       "       ...,\n",
       "       [2., 3., 3., ..., 5., 2., 2.],\n",
       "       [2., 1., 2., ..., 3., 1., 3.],\n",
       "       [1., 3., 4., ..., 4., 3., 4.]])"
      ]
     },
     "execution_count": 21,
     "metadata": {},
     "output_type": "execute_result"
    }
   ],
   "source": [
    "X_train"
   ]
  },
  {
   "cell_type": "code",
   "execution_count": null,
   "id": "05bb4280",
   "metadata": {},
   "outputs": [],
   "source": [
    "df"
   ]
  },
  {
   "cell_type": "markdown",
   "id": "44c59e68",
   "metadata": {},
   "source": [
    "# Modeling\n",
    "https://github.com/automated-library/ICPC_2022_Automated-Identification-of-Libraries-from-Vulnerability-Data/blob/main/extremeText/extremetext_train.py"
   ]
  },
  {
   "cell_type": "code",
   "execution_count": 268,
   "id": "29d6d0d5",
   "metadata": {},
   "outputs": [],
   "source": [
    "# https://github.com/automated-library/ICPC_2022_Automated-Identification-of-Libraries-from-Vulnerability-Data/blob/main/extremeText/extremetext_train.py\n",
    "\n",
    "def model_training(train_data):\n",
    "    # train_supervised uses the same arguments and defaults as the fastText/extremeText cli\n",
    "\n",
    "    print(\"Supervised Training\")\n",
    "    # default supervised training\n",
    "    # model = extremeText.train_supervised(\n",
    "    #     input=train_data, epoch=100, lr=1.0, wordNgrams=2, verbose=3, minCount=1,\n",
    "    # )\n",
    "\n",
    "    # paper supervised training\n",
    "    model = extremeText.train_supervised(\n",
    "        input=train_data, epoch=100, lr=0.05, verbose=3, wordNgrams=2, minCount=1, l2=0.003, arity=2, dim=100, tfidfWeights=True\n",
    "    )\n",
    "    model.save_model(\"xt_supervised.bin\")\n",
    "\n",
    "    # print(\"Quantization\")\n",
    "    #\n",
    "    # model.quantize(input=train_data, qnorm=True, retrain=True, cutoff=100000)\n",
    "    #\n",
    "    # model.save_model(\"model/xt_quantized.ftz\")"
   ]
  },
  {
   "cell_type": "code",
   "execution_count": 269,
   "id": "6fa84fe6",
   "metadata": {},
   "outputs": [],
   "source": [
    "# model_training(train_data = \"./dataset/train.txt\")"
   ]
  },
  {
   "cell_type": "code",
   "execution_count": 270,
   "id": "0e428021",
   "metadata": {},
   "outputs": [
    {
     "name": "stdout",
     "output_type": "stream",
     "text": [
      "Supervised Training\n"
     ]
    },
    {
     "name": "stderr",
     "output_type": "stream",
     "text": [
      "Training ...\n",
      "  Model: sup, loss: softmax\n",
      "  Features: TF-IDF weights, buckets: 2000000\n",
      "\n",
      "  Update: SGD, lr: 0.05, L2: 0.003, dims: 100, epochs: 100, neg: 5\n",
      "Reading input file ...\n",
      "Read 0M words\n",
      "Number of documents: 8387229874383523824\n",
      "Number of words: 5887\n",
      "Number of labels: 911\n",
      "  Input: 2005887 x 100 (765M)\n",
      "Setting up loss layer ...\n",
      "  Output: 911 x 100 (0M)\n",
      "Starting 12 threads ...\n",
      "Progress: 100.0% words/sec/thread:   69283 lr:  0.000000 loss:  5.719331 ETA:   0h 0m\n",
      "Saving model ...\n"
     ]
    }
   ],
   "source": [
    "model_training(train_data = \"./dataset/train_hs.txt\")"
   ]
  },
  {
   "cell_type": "code",
   "execution_count": null,
   "id": "32e44fa1",
   "metadata": {},
   "outputs": [],
   "source": []
  }
 ],
 "metadata": {
  "kernelspec": {
   "display_name": "Python 3 (ipykernel)",
   "language": "python",
   "name": "python3"
  },
  "language_info": {
   "codemirror_mode": {
    "name": "ipython",
    "version": 3
   },
   "file_extension": ".py",
   "mimetype": "text/x-python",
   "name": "python",
   "nbconvert_exporter": "python",
   "pygments_lexer": "ipython3",
   "version": "3.9.14"
  }
 },
 "nbformat": 4,
 "nbformat_minor": 5
}
